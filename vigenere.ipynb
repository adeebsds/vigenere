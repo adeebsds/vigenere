{
  "nbformat": 4,
  "nbformat_minor": 0,
  "metadata": {
    "colab": {
      "provenance": []
    },
    "kernelspec": {
      "name": "python3",
      "display_name": "Python 3"
    },
    "language_info": {
      "name": "python"
    }
  },
  "cells": [
    {
      "cell_type": "code",
      "execution_count": 1,
      "metadata": {
        "colab": {
          "base_uri": "https://localhost:8080/"
        },
        "id": "a-wkkNIBp5gC",
        "outputId": "ca3e595e-62dc-42b9-f43c-d61945f7a70d"
      },
      "outputs": [
        {
          "output_type": "stream",
          "name": "stdout",
          "text": [
            "Requirement already satisfied: wheel in /usr/local/lib/python3.10/dist-packages (0.42.0)\n"
          ]
        }
      ],
      "source": [
        "!pip install wheel\n"
      ]
    },
    {
      "cell_type": "code",
      "source": [
        "def vigencrypt_v3(message, key):\n",
        "    if not isinstance(message, str) or not isinstance(key, str):\n",
        "        raise ValueError(\"Both message and key must be strings.\")\n",
        "    if not key:\n",
        "        raise ValueError(\"Key must not be empty.\")\n",
        "\n",
        "    encrypted_message = []\n",
        "    key = key.upper()\n",
        "    key_index = 0\n",
        "\n",
        "    for char in message:\n",
        "        if char.isalpha():\n",
        "            shift = ord(key[key_index]) - ord('A')\n",
        "            if char.islower():\n",
        "                encrypted_message.append(chr((ord(char) - ord('a') + shift) % 26 + ord('a')))\n",
        "            else:\n",
        "                encrypted_message.append(chr((ord(char) - ord('A') + shift) % 26 + ord('A')))\n",
        "            key_index = (key_index + 1) % len(key)\n",
        "        else:\n",
        "            encrypted_message.append(char)\n",
        "\n",
        "    return ''.join(encrypted_message)\n",
        "\n",
        "\n",
        "def vigdecrypt_v3(encrypted_message, key):\n",
        "    if not isinstance(encrypted_message, str) or not isinstance(key, str):\n",
        "        raise ValueError(\"Both encrypted_message and key must be strings.\")\n",
        "    if not key:\n",
        "        raise ValueError(\"Key must not be empty.\")\n",
        "\n",
        "    decrypted_message = []\n",
        "    key = key.upper()\n",
        "    key_index = 0\n",
        "\n",
        "    for char in encrypted_message:\n",
        "        if char.isalpha():\n",
        "            shift = ord(key[key_index]) - ord('A')\n",
        "            if char.islower():\n",
        "                decrypted_message.append(chr((ord(char) - ord('a') - shift) % 26 + ord('a')))\n",
        "            else:\n",
        "                decrypted_message.append(chr((ord(char) - ord('A') - shift) % 26 + ord('A')))\n",
        "            key_index = (key_index + 1) % len(key)\n",
        "        else:\n",
        "            decrypted_message.append(char)\n",
        "\n",
        "    return ''.join(decrypted_message)\n",
        "\n",
        "# Function to find the decryption key and message\n",
        "def find_key_and_message(encrypted_message, capitals):\n",
        "    for capital in capitals:\n",
        "        decrypted_message = vigdecrypt_v3(encrypted_message, capital)\n",
        "        if \"discover\" in decrypted_message.lower():\n",
        "            return capital, decrypted_message\n",
        "    return None, None\n"
      ],
      "metadata": {
        "id": "woprLVf8rE7z"
      },
      "execution_count": 2,
      "outputs": []
    },
    {
      "cell_type": "code",
      "source": [
        "import unittest\n",
        "\n",
        "# Assume vigencrypt_v3 and vigdecrypt_v3 are defined in previous cells\n",
        "\n",
        "class TestVigenereCipher(unittest.TestCase):\n",
        "\n",
        "    def test_basic_encryption_decryption(self):\n",
        "        message = \"Hello World\"\n",
        "        key = \"KEY\"\n",
        "        encrypted = vigencrypt_v3(message, key)\n",
        "        decrypted = vigdecrypt_v3(encrypted, key)\n",
        "        self.assertEqual(decrypted, message)\n",
        "\n",
        "    def test_encryption_with_non_alpha_characters(self):\n",
        "        message = \"Hello, World! 123\"\n",
        "        key = \"KEY\"\n",
        "        encrypted = vigencrypt_v3(message, key)\n",
        "        decrypted = vigdecrypt_v3(encrypted, key)\n",
        "        self.assertEqual(decrypted, message)\n",
        "\n",
        "    def test_empty_string(self):\n",
        "        message = \"\"\n",
        "        key = \"KEY\"\n",
        "        encrypted = vigencrypt_v3(message, key)\n",
        "        decrypted = vigdecrypt_v3(encrypted, key)\n",
        "        self.assertEqual(decrypted, message)\n",
        "\n",
        "    def test_invalid_key(self):\n",
        "        message = \"Hello World\"\n",
        "        key = \"\"\n",
        "        with self.assertRaises(ValueError):\n",
        "            vigencrypt_v3(message, key)\n",
        "\n",
        "    def test_non_string_input(self):\n",
        "        with self.assertRaises(ValueError):\n",
        "            vigencrypt_v3(123, \"KEY\")\n",
        "        with self.assertRaises(ValueError):\n",
        "            vigdecrypt_v3(123, \"KEY\")\n",
        "\n",
        "# Running the tests\n",
        "if __name__ == '__main__':\n",
        "    unittest.main(argv=[''], exit=False)\n"
      ],
      "metadata": {
        "colab": {
          "base_uri": "https://localhost:8080/"
        },
        "id": "Ir9dGALYrHRA",
        "outputId": "19572966-ea04-4154-ff20-e09dd066e404"
      },
      "execution_count": 5,
      "outputs": [
        {
          "output_type": "stream",
          "name": "stderr",
          "text": [
            ".....\n",
            "----------------------------------------------------------------------\n",
            "Ran 5 tests in 0.011s\n",
            "\n",
            "OK\n"
          ]
        }
      ]
    },
    {
      "cell_type": "code",
      "source": [
        "%%writefile setup.py\n",
        "from setuptools import setup, find_packages\n",
        "\n",
        "setup(\n",
        "    name='vigenere',\n",
        "    version='0.0.1',\n",
        "    packages=find_packages(),\n",
        "    description='Vigenere Cipher encryption and decryption functions',\n",
        "    long_description=open('README.md').read(),\n",
        "    long_description_content_type='text/markdown',\n",
        "    author='Your Name',\n",
        "    author_email='your.email@example.com',\n",
        "    url='https://www.example.com',\n",
        "    license='MIT'\n",
        ")\n"
      ],
      "metadata": {
        "colab": {
          "base_uri": "https://localhost:8080/"
        },
        "id": "RH-qMfp0r6hg",
        "outputId": "b7bd04d6-1a09-45c9-dbd8-ab393943e499"
      },
      "execution_count": 6,
      "outputs": [
        {
          "output_type": "stream",
          "name": "stdout",
          "text": [
            "Writing setup.py\n"
          ]
        }
      ]
    },
    {
      "cell_type": "code",
      "source": [
        "%%writefile README.md\n",
        "# Vigenere Cipher Package\n",
        "def vigencrypt_v3(message, key):\n",
        "    if not isinstance(message, str) or not isinstance(key, str):\n",
        "        raise ValueError(\"Both message and key must be strings.\")\n",
        "    if not key:\n",
        "        raise ValueError(\"Key must not be empty.\")\n",
        "\n",
        "    encrypted_message = []\n",
        "    key = key.upper()\n",
        "    key_index = 0\n",
        "\n",
        "    for char in message:\n",
        "        if char.isalpha():\n",
        "            shift = ord(key[key_index]) - ord('A')\n",
        "            if char.islower():\n",
        "                encrypted_message.append(chr((ord(char) - ord('a') + shift) % 26 + ord('a')))\n",
        "            else:\n",
        "                encrypted_message.append(chr((ord(char) - ord('A') + shift) % 26 + ord('A')))\n",
        "            key_index = (key_index + 1) % len(key)\n",
        "        else:\n",
        "            encrypted_message.append(char)\n",
        "\n",
        "    return ''.join(encrypted_message)\n",
        "\n",
        "\n",
        "def vigdecrypt_v3(encrypted_message, key):\n",
        "    if not isinstance(encrypted_message, str) or not isinstance(key, str):\n",
        "        raise ValueError(\"Both encrypted_message and key must be strings.\")\n",
        "    if not key:\n",
        "        raise ValueError(\"Key must not be empty.\")\n",
        "\n",
        "    decrypted_message = []\n",
        "    key = key.upper()\n",
        "    key_index = 0\n",
        "\n",
        "    for char in encrypted_message:\n",
        "        if char.isalpha():\n",
        "            shift = ord(key[key_index]) - ord('A')\n",
        "            if char.islower():\n",
        "                decrypted_message.append(chr((ord(char) - ord('a') - shift) % 26 + ord('a')))\n",
        "            else:\n",
        "                decrypted_message.append(chr((ord(char) - ord('A') - shift) % 26 + ord('A')))\n",
        "            key_index = (key_index + 1) % len(key)\n",
        "        else:\n",
        "            decrypted_message.append(char)\n",
        "\n",
        "    return ''.join(decrypted_message)\n",
        "\n",
        "# Function to find the decryption key and message\n",
        "def find_key_and_message(encrypted_message, capitals):\n",
        "    for capital in capitals:\n",
        "        decrypted_message = vigdecrypt_v3(encrypted_message, capital)\n",
        "        if \"discover\" in decrypted_message.lower():\n",
        "            return capital, decrypted_message\n",
        "    return None, None\n",
        "\n",
        "This package provides functions to encrypt and decrypt messages using the Vigenère cipher.\n"
      ],
      "metadata": {
        "colab": {
          "base_uri": "https://localhost:8080/"
        },
        "id": "Yby_yop4sAln",
        "outputId": "39ab0acc-fa26-4a6d-b62e-1772d2dc03b3"
      },
      "execution_count": 28,
      "outputs": [
        {
          "output_type": "stream",
          "name": "stdout",
          "text": [
            "Writing README.md\n"
          ]
        }
      ]
    },
    {
      "cell_type": "code",
      "source": [
        "!python vigenere_package/setup.py sdist bdist_wheel\n"
      ],
      "metadata": {
        "colab": {
          "base_uri": "https://localhost:8080/"
        },
        "id": "JJMfEeBhs-nN",
        "outputId": "25f0e580-d307-451a-c22c-a4f81baa1f56"
      },
      "execution_count": 30,
      "outputs": [
        {
          "output_type": "stream",
          "name": "stdout",
          "text": [
            "running sdist\n",
            "running egg_info\n",
            "creating vigenere.egg-info\n",
            "writing vigenere.egg-info/PKG-INFO\n",
            "writing dependency_links to vigenere.egg-info/dependency_links.txt\n",
            "writing top-level names to vigenere.egg-info/top_level.txt\n",
            "writing manifest file 'vigenere.egg-info/SOURCES.txt'\n",
            "reading manifest file 'vigenere.egg-info/SOURCES.txt'\n",
            "writing manifest file 'vigenere.egg-info/SOURCES.txt'\n",
            "running check\n",
            "creating vigenere-0.0.1\n",
            "creating vigenere-0.0.1/vigenere.egg-info\n",
            "copying files to vigenere-0.0.1...\n",
            "copying README.md -> vigenere-0.0.1\n",
            "copying vigenere.egg-info/PKG-INFO -> vigenere-0.0.1/vigenere.egg-info\n",
            "copying vigenere.egg-info/SOURCES.txt -> vigenere-0.0.1/vigenere.egg-info\n",
            "copying vigenere.egg-info/dependency_links.txt -> vigenere-0.0.1/vigenere.egg-info\n",
            "copying vigenere.egg-info/top_level.txt -> vigenere-0.0.1/vigenere.egg-info\n",
            "Writing vigenere-0.0.1/setup.cfg\n",
            "creating dist\n",
            "Creating tar archive\n",
            "removing 'vigenere-0.0.1' (and everything under it)\n",
            "running bdist_wheel\n",
            "running build\n",
            "/usr/local/lib/python3.10/dist-packages/setuptools/_distutils/cmd.py:66: SetuptoolsDeprecationWarning: setup.py install is deprecated.\n",
            "!!\n",
            "\n",
            "        ********************************************************************************\n",
            "        Please avoid running ``setup.py`` directly.\n",
            "        Instead, use pypa/build, pypa/installer, pypa/build or\n",
            "        other standards-based tools.\n",
            "\n",
            "        See https://blog.ganssle.io/articles/2021/10/setup-py-deprecated.html for details.\n",
            "        ********************************************************************************\n",
            "\n",
            "!!\n",
            "  self.initialize_options()\n",
            "installing to build/bdist.linux-x86_64/wheel\n",
            "running install\n",
            "running install_egg_info\n",
            "Copying vigenere.egg-info to build/bdist.linux-x86_64/wheel/vigenere-0.0.1-py3.10.egg-info\n",
            "running install_scripts\n",
            "creating build/bdist.linux-x86_64/wheel/vigenere-0.0.1.dist-info/WHEEL\n",
            "creating 'dist/vigenere-0.0.1-py3-none-any.whl' and adding 'build/bdist.linux-x86_64/wheel' to it\n",
            "adding 'vigenere-0.0.1.dist-info/METADATA'\n",
            "adding 'vigenere-0.0.1.dist-info/WHEEL'\n",
            "adding 'vigenere-0.0.1.dist-info/top_level.txt'\n",
            "adding 'vigenere-0.0.1.dist-info/RECORD'\n",
            "removing build/bdist.linux-x86_64/wheel\n"
          ]
        }
      ]
    },
    {
      "cell_type": "code",
      "source": [
        "%%writefile vigenere_package/__init__.py\n"
      ],
      "metadata": {
        "colab": {
          "base_uri": "https://localhost:8080/"
        },
        "id": "LTS8WBkvtFAK",
        "outputId": "dfd7fea0-dec5-4705-b850-be289bcce781"
      },
      "execution_count": 31,
      "outputs": [
        {
          "output_type": "stream",
          "name": "stdout",
          "text": [
            "Writing vigenere_package/__init__.py\n"
          ]
        }
      ]
    },
    {
      "cell_type": "code",
      "source": [
        "%%writefile vigenere_package/vigenere.py\n",
        "# Write or paste your Vigenère cipher functions here.\n",
        "def vigencrypt_v3(message, key):\n",
        "    if not isinstance(message, str) or not isinstance(key, str):\n",
        "        raise ValueError(\"Both message and key must be strings.\")\n",
        "    if not key:\n",
        "        raise ValueError(\"Key must not be empty.\")\n",
        "\n",
        "    encrypted_message = []\n",
        "    key = key.upper()\n",
        "    key_index = 0\n",
        "\n",
        "    for char in message:\n",
        "        if char.isalpha():\n",
        "            shift = ord(key[key_index]) - ord('A')\n",
        "            if char.islower():\n",
        "                encrypted_message.append(chr((ord(char) - ord('a') + shift) % 26 + ord('a')))\n",
        "            else:\n",
        "                encrypted_message.append(chr((ord(char) - ord('A') + shift) % 26 + ord('A')))\n",
        "            key_index = (key_index + 1) % len(key)\n",
        "        else:\n",
        "            encrypted_message.append(char)\n",
        "\n",
        "    return ''.join(encrypted_message)\n",
        "\n",
        "\n",
        "def vigdecrypt_v3(encrypted_message, key):\n",
        "    if not isinstance(encrypted_message, str) or not isinstance(key, str):\n",
        "        raise ValueError(\"Both encrypted_message and key must be strings.\")\n",
        "    if not key:\n",
        "        raise ValueError(\"Key must not be empty.\")\n",
        "\n",
        "    decrypted_message = []\n",
        "    key = key.upper()\n",
        "    key_index = 0\n",
        "\n",
        "    for char in encrypted_message:\n",
        "        if char.isalpha():\n",
        "            shift = ord(key[key_index]) - ord('A')\n",
        "            if char.islower():\n",
        "                decrypted_message.append(chr((ord(char) - ord('a') - shift) % 26 + ord('a')))\n",
        "            else:\n",
        "                decrypted_message.append(chr((ord(char) - ord('A') - shift) % 26 + ord('A')))\n",
        "            key_index = (key_index + 1) % len(key)\n",
        "        else:\n",
        "            decrypted_message.append(char)\n",
        "\n",
        "    return ''.join(decrypted_message)\n",
        "\n",
        "# Function to find the decryption key and message\n",
        "def find_key_and_message(encrypted_message, capitals):\n",
        "    for capital in capitals:\n",
        "        decrypted_message = vigdecrypt_v3(encrypted_message, capital)\n",
        "        if \"discover\" in decrypted_message.lower():\n",
        "            return capital, decrypted_message\n",
        "    return None, None"
      ],
      "metadata": {
        "colab": {
          "base_uri": "https://localhost:8080/"
        },
        "id": "p1IVRHSkzKN4",
        "outputId": "04ce695e-3ade-4973-db34-f515a5c095cb"
      },
      "execution_count": 32,
      "outputs": [
        {
          "output_type": "stream",
          "name": "stdout",
          "text": [
            "Writing vigenere_package/vigenere.py\n"
          ]
        }
      ]
    },
    {
      "cell_type": "code",
      "source": [
        "!zip -r vigenere_package.zip vigenere_package\n",
        "\n"
      ],
      "metadata": {
        "colab": {
          "base_uri": "https://localhost:8080/"
        },
        "id": "_zkJuGhKuH1D",
        "outputId": "9046c1a3-0144-4fa0-da78-552e0a3d863c"
      },
      "execution_count": 33,
      "outputs": [
        {
          "output_type": "stream",
          "name": "stdout",
          "text": [
            "updating: vigenere_package/ (stored 0%)\n",
            "updating: vigenere_package/setup.py (deflated 41%)\n",
            "updating: vigenere_package/build/ (stored 0%)\n",
            "updating: vigenere_package/build/bdist.linux-x86_64/ (stored 0%)\n",
            "updating: vigenere_package/sample_data/ (stored 0%)\n",
            "updating: vigenere_package/sample_data/california_housing_train.csv (deflated 79%)\n",
            "updating: vigenere_package/sample_data/mnist_train_small.csv (deflated 88%)\n",
            "updating: vigenere_package/sample_data/anscombe.json (deflated 83%)\n",
            "updating: vigenere_package/sample_data/mnist_test.csv (deflated 88%)\n",
            "updating: vigenere_package/sample_data/README.md (deflated 42%)\n",
            "updating: vigenere_package/sample_data/california_housing_test.csv (deflated 76%)\n",
            "updating: vigenere_package/README.md (deflated 16%)\n",
            "updating: vigenere_package/vigenere.egg-info/ (stored 0%)\n",
            "updating: vigenere_package/vigenere.egg-info/SOURCES.txt (deflated 38%)\n",
            "updating: vigenere_package/vigenere.egg-info/PKG-INFO (deflated 36%)\n",
            "updating: vigenere_package/vigenere.egg-info/dependency_links.txt (stored 0%)\n",
            "updating: vigenere_package/vigenere.egg-info/top_level.txt (stored 0%)\n",
            "updating: vigenere_package/dist/ (stored 0%)\n",
            "updating: vigenere_package/dist/vigenere-0.0.1-py3-none-any.whl (deflated 32%)\n",
            "updating: vigenere_package/dist/vigenere-0.0.1.tar.gz (stored 0%)\n",
            "  adding: vigenere_package/vigenere.py (deflated 75%)\n",
            "  adding: vigenere_package/__init__.py (deflated 73%)\n"
          ]
        }
      ]
    },
    {
      "cell_type": "code",
      "source": [
        "from google.colab import files\n",
        "files.download('vigenere_package.zip')\n"
      ],
      "metadata": {
        "colab": {
          "base_uri": "https://localhost:8080/",
          "height": 17
        },
        "id": "-U4MZ_0bvCSO",
        "outputId": "903bd452-e4c6-45c8-b695-6b003aeb59e3"
      },
      "execution_count": 34,
      "outputs": [
        {
          "output_type": "display_data",
          "data": {
            "text/plain": [
              "<IPython.core.display.Javascript object>"
            ],
            "application/javascript": [
              "\n",
              "    async function download(id, filename, size) {\n",
              "      if (!google.colab.kernel.accessAllowed) {\n",
              "        return;\n",
              "      }\n",
              "      const div = document.createElement('div');\n",
              "      const label = document.createElement('label');\n",
              "      label.textContent = `Downloading \"${filename}\": `;\n",
              "      div.appendChild(label);\n",
              "      const progress = document.createElement('progress');\n",
              "      progress.max = size;\n",
              "      div.appendChild(progress);\n",
              "      document.body.appendChild(div);\n",
              "\n",
              "      const buffers = [];\n",
              "      let downloaded = 0;\n",
              "\n",
              "      const channel = await google.colab.kernel.comms.open(id);\n",
              "      // Send a message to notify the kernel that we're ready.\n",
              "      channel.send({})\n",
              "\n",
              "      for await (const message of channel.messages) {\n",
              "        // Send a message to notify the kernel that we're ready.\n",
              "        channel.send({})\n",
              "        if (message.buffers) {\n",
              "          for (const buffer of message.buffers) {\n",
              "            buffers.push(buffer);\n",
              "            downloaded += buffer.byteLength;\n",
              "            progress.value = downloaded;\n",
              "          }\n",
              "        }\n",
              "      }\n",
              "      const blob = new Blob(buffers, {type: 'application/binary'});\n",
              "      const a = document.createElement('a');\n",
              "      a.href = window.URL.createObjectURL(blob);\n",
              "      a.download = filename;\n",
              "      div.appendChild(a);\n",
              "      a.click();\n",
              "      div.remove();\n",
              "    }\n",
              "  "
            ]
          },
          "metadata": {}
        },
        {
          "output_type": "display_data",
          "data": {
            "text/plain": [
              "<IPython.core.display.Javascript object>"
            ],
            "application/javascript": [
              "download(\"download_ef1d5262-bdb9-42a9-8858-be9b7d8f6f8b\", \"vigenere_package.zip\", 7070635)"
            ]
          },
          "metadata": {}
        }
      ]
    },
    {
      "cell_type": "code",
      "source": [
        "!unzip /content/newvig/vigenere_package.zip -d /content/newvig\n"
      ],
      "metadata": {
        "colab": {
          "base_uri": "https://localhost:8080/"
        },
        "id": "SvGo2Ng0v1pr",
        "outputId": "36d09c0b-e9f6-481b-dfc6-51641c88719c"
      },
      "execution_count": 40,
      "outputs": [
        {
          "output_type": "stream",
          "name": "stdout",
          "text": [
            "Archive:  /content/newvig/vigenere_package.zip\n",
            "  inflating: /content/newvig/vigenere_package/README.md  \n",
            "  inflating: /content/newvig/vigenere_package/setup.py  \n",
            "   creating: /content/newvig/vigenere_package/vigenere/\n",
            "  inflating: /content/newvig/vigenere_package/vigenere/__init__.py  \n",
            "   creating: /content/newvig/vigenere_package/vigenere/dist/\n",
            " extracting: /content/newvig/vigenere_package/vigenere/dist/vigenere-0.0.1.tar.gz  \n",
            "  inflating: /content/newvig/vigenere_package/vigenere/dist/vigenere-0.0.1-py3-none-any.whl  \n",
            "  inflating: /content/newvig/vigenere_package/vigenere/vigenere.py  \n"
          ]
        }
      ]
    },
    {
      "cell_type": "code",
      "source": [
        "%cd /content/newvig/vigenere_package\n",
        "!pip install .\n"
      ],
      "metadata": {
        "colab": {
          "base_uri": "https://localhost:8080/"
        },
        "id": "DyeofA0c2Xdk",
        "outputId": "9edcddde-778a-4c90-a82b-ebef2173bf48"
      },
      "execution_count": 41,
      "outputs": [
        {
          "output_type": "stream",
          "name": "stdout",
          "text": [
            "/content/newvig/vigenere_package\n",
            "Processing /content/newvig/vigenere_package\n",
            "  Preparing metadata (setup.py) ... \u001b[?25l\u001b[?25hdone\n",
            "Building wheels for collected packages: vigenere\n",
            "  Building wheel for vigenere (setup.py) ... \u001b[?25l\u001b[?25hdone\n",
            "  Created wheel for vigenere: filename=vigenere-0.0.1-py3-none-any.whl size=2518 sha256=f5740895bf93a3e193a22974e51b1d17a2c2972fe36b5491d8e1095882a9faeb\n",
            "  Stored in directory: /tmp/pip-ephem-wheel-cache-m6c9_a_8/wheels/c7/10/8f/3c427b4720fb598aaedab74e1d540f8399fb1fbba06c01a3e1\n",
            "Successfully built vigenere\n",
            "Installing collected packages: vigenere\n",
            "  Attempting uninstall: vigenere\n",
            "    Found existing installation: vigenere 0.0.1\n",
            "    Uninstalling vigenere-0.0.1:\n",
            "      Successfully uninstalled vigenere-0.0.1\n",
            "Successfully installed vigenere-0.0.1\n"
          ]
        }
      ]
    },
    {
      "cell_type": "code",
      "source": [
        "from vigenere.vigenere import vigencrypt_v3, vigdecrypt_v3\n",
        "import pandas as pd\n",
        "\n",
        "# Load the encrypted message\n",
        "with open('/content/message2.txt', 'r') as file:\n",
        "    encrypted_message = file.read().strip()\n",
        "\n",
        "# Load the CSV file containing country capitals\n",
        "capitals_df = pd.read_csv('/content/countriescapitals.csv')\n",
        "\n",
        "# Extract the list of capitals\n",
        "capitals = capitals_df['Capital'].tolist()\n",
        "\n",
        "# Function to try decrypting the message with each capital as the key\n",
        "def find_correct_decryption(encrypted_message, capitals):\n",
        "    for capital in capitals:\n",
        "        formatted_capital = ''.join([c for c in capital if c.isalpha()])\n",
        "        decrypted_message = vigdecrypt_v3(encrypted_message, formatted_capital)\n",
        "        if \"discover\" in decrypted_message.lower():\n",
        "            return formatted_capital, decrypted_message\n",
        "    return None, None\n",
        "\n",
        "# Find the capital that correctly decrypts the message\n",
        "key_capital, decrypted_question = find_correct_decryption(encrypted_message, capitals)\n",
        "print(key_capital, decrypted_question)\n"
      ],
      "metadata": {
        "colab": {
          "base_uri": "https://localhost:8080/"
        },
        "id": "9F4X4zVRv4UB",
        "outputId": "f93758a3-5c52-43b6-a644-057358e36454"
      },
      "execution_count": 45,
      "outputs": [
        {
          "output_type": "stream",
          "name": "stdout",
          "text": [
            "PortLouis ALEXANDERFLEMINGWONTHENOBELPRIZEFORTHEDISCOVERYOF\n"
          ]
        }
      ]
    }
  ]
}